{
  "nbformat": 4,
  "nbformat_minor": 0,
  "metadata": {
    "colab": {
      "name": "PerceptronTraining.ipynb",
      "provenance": [],
      "collapsed_sections": [],
      "include_colab_link": true
    },
    "kernelspec": {
      "name": "python3",
      "display_name": "Python 3"
    }
  },
  "cells": [
    {
      "cell_type": "markdown",
      "metadata": {
        "id": "view-in-github",
        "colab_type": "text"
      },
      "source": [
        "<a href=\"https://colab.research.google.com/github/Pujyalakshmi/MLDLS/blob/main/PerceptronTraining.ipynb\" target=\"_parent\"><img src=\"https://colab.research.google.com/assets/colab-badge.svg\" alt=\"Open In Colab\"/></a>"
      ]
    },
    {
      "cell_type": "code",
      "metadata": {
        "id": "Svz1EYHG7rV2"
      },
      "source": [
        "#importing lib\n",
        "import tensorflow as tf\n",
        "import numpy as np\n",
        "from keras.models import Sequential\n",
        "from keras.layers import Dense\n",
        "from tensorflow import keras\n",
        "import matplotlib.pyplot as plt"
      ],
      "execution_count": null,
      "outputs": []
    },
    {
      "cell_type": "code",
      "metadata": {
        "id": "ySTUmO-E8gq2"
      },
      "source": [
        "#creating array of x and y such that y=2x - 2\n",
        "\n",
        "xs = np.array([0.0,  2.0, 4.0, 6.0, 8.0, 10.0], dtype=float)\n",
        "ys = np.array([-2.0, 2.0, 6.0, 10.0, 14.0, 18.0], dtype=float)"
      ],
      "execution_count": null,
      "outputs": []
    },
    {
      "cell_type": "code",
      "metadata": {
        "id": "JxKfURd62ter"
      },
      "source": [
        "basic = tf.keras.Sequential([keras.layers.Dense(units =1, input_shape=[1])])\n",
        "basic.compile(optimizer='sgd', loss='mean_squared_error')\n",
        "basic.fit(xs,ys, epochs=200)"
      ],
      "execution_count": null,
      "outputs": []
    },
    {
      "cell_type": "code",
      "metadata": {
        "id": "MTGS8R858ZKM",
        "colab": {
          "base_uri": "https://localhost:8080/"
        },
        "outputId": "b3143ad3-c1cc-463c-ae44-a3024866480a"
      },
      "source": [
        "#defining a single layer; single neuron model\n",
        "model = tf.keras.Sequential([keras.layers.Dense(units=3, activation='relu', input_shape=[1])])\n",
        "model.add(Dense(1))\n",
        "print(model.summary())"
      ],
      "execution_count": null,
      "outputs": [
        {
          "output_type": "stream",
          "text": [
            "Model: \"sequential_4\"\n",
            "_________________________________________________________________\n",
            "Layer (type)                 Output Shape              Param #   \n",
            "=================================================================\n",
            "dense_4 (Dense)              (None, 3)                 6         \n",
            "_________________________________________________________________\n",
            "module_wrapper_1 (ModuleWrap (None, 1)                 4         \n",
            "=================================================================\n",
            "Total params: 10\n",
            "Trainable params: 10\n",
            "Non-trainable params: 0\n",
            "_________________________________________________________________\n",
            "None\n"
          ],
          "name": "stdout"
        }
      ]
    },
    {
      "cell_type": "code",
      "metadata": {
        "colab": {
          "base_uri": "https://localhost:8080/",
          "height": 312
        },
        "id": "xHKoD9G7xO8A",
        "outputId": "cb47677b-ea89-45d1-997a-ec12a09478b6"
      },
      "source": [
        "tf.keras.utils.plot_model(\n",
        "    model,\n",
        "    to_file=\"model.png\",\n",
        "    show_shapes=True,\n",
        "    show_dtype=False,\n",
        "    show_layer_names=True,\n",
        "    rankdir=\"TB\",\n",
        "    expand_nested=False,\n",
        "    dpi=96,\n",
        ")"
      ],
      "execution_count": null,
      "outputs": [
        {
          "output_type": "execute_result",
          "data": {
            "image/png": "[encoded data removed]",
            "text/plain": [
              "<IPython.core.display.Image object>"
            ]
          },
          "metadata": {
            "tags": []
          },
          "execution_count": 18
        }
      ]
    },
    {
      "cell_type": "code",
      "metadata": {
        "id": "9ccVpfAT8gCk"
      },
      "source": [
        "#defining the model evaluation for backpropogation\n",
        "model.compile(optimizer='sgd', loss='mean_squared_error')"
      ],
      "execution_count": null,
      "outputs": []
    },
    {
      "cell_type": "code",
      "metadata": {
        "id": "SHcLu4M09DKS"
      },
      "source": [
        "#taraining the model with iterations (No. of front & back propogation)\n",
        "run_model = model.fit(xs, ys, epochs=700)"
      ],
      "execution_count": null,
      "outputs": []
    },
    {
      "cell_type": "code",
      "metadata": {
        "id": "xE_T6rtB9I2-",
        "colab": {
          "base_uri": "https://localhost:8080/"
        },
        "outputId": "ed82961d-cee6-4900-871c-87eef3f0ad4b"
      },
      "source": [
        "print(model.predict([5.0]))"
      ],
      "execution_count": null,
      "outputs": [
        {
          "output_type": "stream",
          "text": [
            "[[10.275271]]\n"
          ],
          "name": "stdout"
        }
      ]
    },
    {
      "cell_type": "code",
      "metadata": {
        "id": "qQpjh9aC0kPC",
        "colab": {
          "base_uri": "https://localhost:8080/"
        },
        "outputId": "9c772c38-518d-46b7-b929-bf82a02fc7fd"
      },
      "source": [
        "# list all data in history\n",
        "print(run_model.history.keys())"
      ],
      "execution_count": null,
      "outputs": [
        {
          "output_type": "stream",
          "text": [
            "dict_keys(['loss'])\n"
          ],
          "name": "stdout"
        }
      ]
    },
    {
      "cell_type": "code",
      "metadata": {
        "colab": {
          "base_uri": "https://localhost:8080/",
          "height": 295
        },
        "id": "yFsDzFc7y7vv",
        "outputId": "05234b1f-bc52-455e-b66f-7a01647afa4d"
      },
      "source": [
        "# summarize history for accuracy\n",
        "plt.plot(run_model.history['loss'])\n",
        "plt.title('model loss')\n",
        "plt.ylabel('loss')\n",
        "plt.xlabel('epoch')\n",
        "plt.show()\n"
      ],
      "execution_count": null,
      "outputs": [
        {
          "output_type": "display_data",
          "data": {
            "image/png": "[encoded data removed]",
            "text/plain": [
              "<Figure size 432x288 with 1 Axes>"
            ]
          },
          "metadata": {
            "tags": [],
            "needs_background": "light"
          }
        }
      ]
    },
    {
      "cell_type": "code",
      "metadata": {
        "id": "wmiGoBk_z9iD"
      },
      "source": [
        ""
      ],
      "execution_count": null,
      "outputs": []
    }
  ]
}