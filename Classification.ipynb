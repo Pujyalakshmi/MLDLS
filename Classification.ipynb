{
  "nbformat": 4,
  "nbformat_minor": 0,
  "metadata": {
    "language_info": {
      "codemirror_mode": {
        "name": "ipython",
        "version": 3
      },
      "file_extension": ".py",
      "mimetype": "text/x-python",
      "name": "python",
      "nbconvert_exporter": "python",
      "pygments_lexer": "ipython3",
      "version": "2.7.15-final"
    },
    "orig_nbformat": 2,
    "kernelspec": {
      "name": "python3",
      "display_name": "Python 2.7.15 64-bit ('HP': virtualenv)",
      "metadata": {
        "interpreter": {
          "hash": "2c3097a68556a1c418e46aff55d1485e9adc96f84dbf866258139031e9bebe96"
        }
      }
    },
    "colab": {
      "name": "Classification.ipynb",
      "provenance": [],
      "collapsed_sections": [],
      "include_colab_link": true
    }
  },
  "cells": [
    {
      "cell_type": "markdown",
      "metadata": {
        "id": "view-in-github",
        "colab_type": "text"
      },
      "source": [
        "<a href=\"https://colab.research.google.com/github/Pujyalakshmi/MLDLS/blob/main/Classification.ipynb\" target=\"_parent\"><img src=\"https://colab.research.google.com/assets/colab-badge.svg\" alt=\"Open In Colab\"/></a>"
      ]
    },
    {
      "cell_type": "code",
      "metadata": {
        "id": "iGuG2oGh1frH"
      },
      "source": [
        "import numpy as np\n",
        "import pandas as pd"
      ],
      "execution_count": null,
      "outputs": []
    },
    {
      "cell_type": "code",
      "metadata": {
        "colab": {
          "base_uri": "https://localhost:8080/"
        },
        "id": "OkFXlC-p1frO",
        "outputId": "9c35eb24-c810-4b02-d244-fb65864e8bf2"
      },
      "source": [
        "dataset = pd.read_csv('Social_Network_Ads.csv')\n",
        "print(dataset)"
      ],
      "execution_count": null,
      "outputs": [
        {
          "output_type": "stream",
          "text": [
            "      User ID  Age  EstimatedSalary  Purchased\n",
            "0    15624510   19            19000          0\n",
            "1    15810944   35            20000          0\n",
            "2    15668575   26            43000          0\n",
            "3    15603246   27            57000          0\n",
            "4    15804002   19            76000          0\n",
            "..        ...  ...              ...        ...\n",
            "395  15691863   46            41000          1\n",
            "396  15706071   51            23000          1\n",
            "397  15654296   50            20000          1\n",
            "398  15755018   36            33000          0\n",
            "399  15594041   49            36000          1\n",
            "\n",
            "[400 rows x 4 columns]\n"
          ],
          "name": "stdout"
        }
      ]
    },
    {
      "cell_type": "code",
      "metadata": {
        "id": "4vRgQm9H9xXW"
      },
      "source": [
        "X = dataset.iloc[:,:3].values\n",
        "Y = dataset.iloc[:,-1].values"
      ],
      "execution_count": null,
      "outputs": []
    },
    {
      "cell_type": "code",
      "metadata": {
        "colab": {
          "base_uri": "https://localhost:8080/"
        },
        "id": "8eJEWC2d1frP",
        "outputId": "350c45b3-7826-4625-9508-cab93371f3bc"
      },
      "source": [
        "print(X.shape, Y.shape)"
      ],
      "execution_count": null,
      "outputs": [
        {
          "output_type": "stream",
          "text": [
            "(400, 3) (400,)\n"
          ],
          "name": "stdout"
        }
      ]
    },
    {
      "cell_type": "code",
      "metadata": {
        "colab": {
          "base_uri": "https://localhost:8080/"
        },
        "id": "QLaiSJ-O1frR",
        "outputId": "dc6c6467-b7a4-43e4-c60b-9402059ab6fd"
      },
      "source": [
        "from sklearn.model_selection import train_test_split\n",
        "X_train, X_test, Y_train, Y_test = train_test_split(X, Y, test_size = 0.3)\n",
        "print(X_train.shape, X_test.shape)"
      ],
      "execution_count": null,
      "outputs": [
        {
          "output_type": "stream",
          "text": [
            "(280, 3) (120, 3)\n"
          ],
          "name": "stdout"
        }
      ]
    },
    {
      "cell_type": "code",
      "metadata": {
        "colab": {
          "base_uri": "https://localhost:8080/"
        },
        "id": "NBsjUw1-1frT",
        "outputId": "29cde599-0cf0-4254-c5da-1d6e679c5165"
      },
      "source": [
        "#Logistic Regression\n",
        "\n",
        "from sklearn.linear_model import LogisticRegression\n",
        "\n",
        "logReg = LogisticRegression()\n",
        "logReg.fit(X_train, Y_train)\n",
        "\n",
        "Y_pred = logReg.predict(X_test)\n",
        "print(Y_test, Y_pred)"
      ],
      "execution_count": null,
      "outputs": [
        {
          "output_type": "stream",
          "text": [
            "[0 0 1 0 0 0 1 0 0 0 0 0 0 0 1 0 0 1 0 0 0 0 0 0 0 1 1 1 0 0 1 0 0 0 1 1 0\n",
            " 0 0 0 0 0 1 1 1 1 1 0 0 0 0 0 0 0 0 1 0 0 0 0 0 0 1 1 1 1 1 0 0 0 0 0 0 1\n",
            " 0 0 1 0 0 1 1 1 1 1 1 0 1 1 1 0 1 0 0 1 0 1 0 0 0 0 0 0 1 0 0 0 1 1 0 0 0\n",
            " 1 0 0 0 0 1 0 1 1] [0 0 1 0 0 0 0 0 0 0 0 0 0 0 1 0 0 1 0 0 0 1 0 0 0 0 0 0 0 0 1 0 0 0 0 1 0\n",
            " 0 0 0 0 1 1 1 1 1 0 0 0 0 0 0 0 0 0 1 0 0 0 0 0 0 0 0 1 1 1 0 0 0 0 0 1 1\n",
            " 0 0 0 0 0 1 1 0 1 1 0 0 1 1 1 0 0 0 0 1 0 0 0 0 0 0 0 0 0 0 0 0 1 1 0 0 0\n",
            " 0 0 0 0 0 0 1 0 0]\n"
          ],
          "name": "stdout"
        }
      ]
    },
    {
      "cell_type": "code",
      "metadata": {
        "colab": {
          "base_uri": "https://localhost:8080/"
        },
        "id": "YIZXfmQj1frU",
        "outputId": "b1590f15-9ac7-48a0-f343-cdd153a4f0bb"
      },
      "source": [
        "from sklearn.metrics import  confusion_matrix, accuracy_score, precision_score, recall_score\n",
        "\n",
        "print(\"Confusion Matrix:\\n\", confusion_matrix(Y_test, Y_pred))\n",
        "print(\"Accuracy:\\n\", accuracy_score(Y_test, Y_pred)) \n",
        "print(\"Precision:\\n\", precision_score(Y_test, Y_pred, average=None))\n",
        "print(\"Recall:\\n\", recall_score(Y_test, Y_pred, average = None))"
      ],
      "execution_count": null,
      "outputs": [
        {
          "output_type": "stream",
          "text": [
            "Confusion Matrix:\n",
            " [[74  4]\n",
            " [18 24]]\n",
            "Accuracy:\n",
            " 0.8166666666666667\n",
            "Precision:\n",
            " [0.80434783 0.85714286]\n",
            "Recall:\n",
            " [0.94871795 0.57142857]\n"
          ],
          "name": "stdout"
        }
      ]
    },
    {
      "cell_type": "code",
      "metadata": {
        "colab": {
          "base_uri": "https://localhost:8080/"
        },
        "id": "IiK2KowL1frW",
        "outputId": "adeb7098-7b7e-480e-cf8f-463c2a279f4f"
      },
      "source": [
        "#KNN Classifier\n",
        "\n",
        "from sklearn.neighbors import KNeighborsClassifier\n",
        "knn = KNeighborsClassifier()\n",
        "knn.fit(X_train, Y_train)\n",
        "\n",
        "Y_pred_knn = knn.predict(X_test)\n",
        "\n",
        "print(\"Confusion Matrix:\\n\", confusion_matrix(Y_test, Y_pred_knn))\n",
        "print(\"Accuracy:\\n\", accuracy_score(Y_test, Y_pred_knn)) "
      ],
      "execution_count": null,
      "outputs": [
        {
          "output_type": "stream",
          "text": [
            "Confusion Matrix:\n",
            " [[70  8]\n",
            " [17 25]]\n",
            "Accuracy:\n",
            " 0.7916666666666666\n"
          ],
          "name": "stdout"
        }
      ]
    },
    {
      "cell_type": "code",
      "metadata": {
        "colab": {
          "base_uri": "https://localhost:8080/"
        },
        "id": "Yy7re7WJ1frX",
        "outputId": "4f3c00df-80b5-49b2-fb0e-d63b0e735d3f"
      },
      "source": [
        "#Decision Tree\n",
        "from sklearn.tree import DecisionTreeClassifier\n",
        "\n",
        "dtc= DecisionTreeClassifier()\n",
        "dtc.fit(X_train, Y_train)\n",
        "\n",
        "Y_pred_dtc = dtc.predict(X_test)\n",
        "\n",
        "print(\"Confusion Matrix:\\n\", confusion_matrix(Y_test, Y_pred_dtc))\n",
        "print(\"Accuracy:\\n\", accuracy_score(Y_test, Y_pred_dtc)) "
      ],
      "execution_count": null,
      "outputs": [
        {
          "output_type": "stream",
          "text": [
            "Confusion Matrix:\n",
            " [[70  8]\n",
            " [ 5 37]]\n",
            "Accuracy:\n",
            " 0.8916666666666667\n"
          ],
          "name": "stdout"
        }
      ]
    },
    {
      "cell_type": "code",
      "metadata": {
        "colab": {
          "base_uri": "https://localhost:8080/"
        },
        "id": "RQnxCQEz1frY",
        "outputId": "3f3310a0-ec99-424d-fd0e-2d550a6a6ef3"
      },
      "source": [
        "#Random Forest\n",
        "from sklearn.ensemble import RandomForestClassifier\n",
        "\n",
        "rfc = RandomForestClassifier()\n",
        "rfc.fit(X_train, Y_train)\n",
        "\n",
        "Y_pred_rfc = rfc.predict(X_test)\n",
        "\n",
        "print(\"Confusion Matrix:\\n\", confusion_matrix(Y_test, Y_pred_rfc))\n",
        "print(\"Accuracy:\\n\", accuracy_score(Y_test, Y_pred_rfc))"
      ],
      "execution_count": null,
      "outputs": [
        {
          "output_type": "stream",
          "text": [
            "Confusion Matrix:\n",
            " [[69  9]\n",
            " [ 3 39]]\n",
            "Accuracy:\n",
            " 0.9\n"
          ],
          "name": "stdout"
        }
      ]
    }
  ]
}