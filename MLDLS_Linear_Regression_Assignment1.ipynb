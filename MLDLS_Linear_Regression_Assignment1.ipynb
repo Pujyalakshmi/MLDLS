{
  "nbformat": 4,
  "nbformat_minor": 0,
  "metadata": {
    "colab": {
      "name": "MLDLS_Linear_Regression_Assignment1.ipynb",
      "provenance": [],
      "collapsed_sections": [],
      "include_colab_link": true
    },
    "kernelspec": {
      "display_name": "Python 2.7.15 64-bit ('HP': virtualenv)",
      "name": "python3"
    },
    "language_info": {
      "codemirror_mode": {
        "name": "ipython",
        "version": 3
      },
      "file_extension": ".py",
      "mimetype": "text/x-python",
      "name": "python",
      "nbconvert_exporter": "python",
      "pygments_lexer": "ipython3",
      "version": "2.7.15-final"
    }
  },
  "cells": [
    {
      "cell_type": "markdown",
      "metadata": {
        "id": "view-in-github",
        "colab_type": "text"
      },
      "source": [
        "<a href=\"https://colab.research.google.com/github/Pujyalakshmi/MLDLS/blob/main/MLDLS_Linear_Regression_Assignment1.ipynb\" target=\"_parent\"><img src=\"https://colab.research.google.com/assets/colab-badge.svg\" alt=\"Open In Colab\"/></a>"
      ]
    },
    {
      "cell_type": "markdown",
      "metadata": {
        "id": "MbYcczg40t-S"
      },
      "source": [
        "# Import Libraries"
      ]
    },
    {
      "cell_type": "code",
      "metadata": {
        "id": "Bp-wKYI3mt7f"
      },
      "source": [
        "#import Libraries\n",
        "import numpy as np\n",
        "import pandas as pd\n",
        "import matplotlib.pyplot as plt"
      ],
      "execution_count": 5,
      "outputs": []
    },
    {
      "cell_type": "markdown",
      "metadata": {
        "id": "rG6AtJND02oW"
      },
      "source": [
        "# Import Dataset"
      ]
    },
    {
      "cell_type": "code",
      "metadata": {
        "colab": {
          "base_uri": "https://localhost:8080/"
        },
        "id": "vE8opt2Tmt7k",
        "outputId": "a668151c-1bfe-459a-b39c-d9293a81fb4d"
      },
      "source": [
        "#import Dataset\n",
        "dataset = pd.read_csv('heights_weights.csv')\n",
        "print(dataset)"
      ],
      "execution_count": 6,
      "outputs": [
        {
          "output_type": "stream",
          "text": [
            "       Height    Weight\n",
            "0    65.78331  112.9925\n",
            "1    71.51521  136.4873\n",
            "2    69.39874  153.0269\n",
            "3    68.21660  142.3354\n",
            "4    67.78781  144.2971\n",
            "..        ...       ...\n",
            "494  69.86410  149.2303\n",
            "495  66.82802  142.1577\n",
            "496  69.09424  127.1436\n",
            "497  66.81425  122.3353\n",
            "498  67.13183  112.6659\n",
            "\n",
            "[499 rows x 2 columns]\n"
          ],
          "name": "stdout"
        }
      ]
    },
    {
      "cell_type": "code",
      "metadata": {
        "id": "ch8nAj_JxCow"
      },
      "source": [
        "X = dataset.iloc[:,:-1].values\n",
        "Y = dataset.iloc[:,-1].values\n",
        "\n",
        "print(X)\n",
        "print(Y)"
      ],
      "execution_count": null,
      "outputs": []
    },
    {
      "cell_type": "code",
      "metadata": {
        "id": "NbsnY2GQcoo9"
      },
      "source": [
        "plt.xlabel('Height')\n",
        "plt.ylabel('Weight')\n",
        "plt.title('Height vs. Weight')\n",
        "plt.scatter(X,Y,color='yellow',marker='*')"
      ],
      "execution_count": null,
      "outputs": []
    },
    {
      "cell_type": "markdown",
      "metadata": {
        "id": "mOidfw3h1B3W"
      },
      "source": [
        "# Split the data"
      ]
    },
    {
      "cell_type": "code",
      "metadata": {
        "colab": {
          "base_uri": "https://localhost:8080/"
        },
        "id": "njENKWtrmt7l",
        "outputId": "c1f2a73b-b09f-4f7c-e2e6-ff2cec38deaf"
      },
      "source": [
        "#Split the data\n",
        "from sklearn.model_selection import train_test_split\n",
        "X_train, X_test, Y_train, Y_test = train_test_split(X,Y, test_size=0.3)\n",
        "print(X_train.shape, X_test.shape)"
      ],
      "execution_count": 9,
      "outputs": [
        {
          "output_type": "stream",
          "text": [
            "(349, 1) (150, 1)\n"
          ],
          "name": "stdout"
        }
      ]
    },
    {
      "cell_type": "markdown",
      "metadata": {
        "id": "BAPWcEAc1Sei"
      },
      "source": [
        "# Fitting Simple Linear Regression"
      ]
    },
    {
      "cell_type": "code",
      "metadata": {
        "colab": {
          "base_uri": "https://localhost:8080/"
        },
        "id": "z4Ncoag6mt7m",
        "outputId": "f51cde65-9f9d-4003-d766-27dee7880492"
      },
      "source": [
        "#Fitting Simple Linear Regression\n",
        "from sklearn.linear_model import LinearRegression\n",
        "model = LinearRegression()\n",
        "model.fit(X_train, Y_train)\n"
      ],
      "execution_count": 10,
      "outputs": [
        {
          "output_type": "execute_result",
          "data": {
            "text/plain": [
              "LinearRegression(copy_X=True, fit_intercept=True, n_jobs=None, normalize=False)"
            ]
          },
          "metadata": {
            "tags": []
          },
          "execution_count": 10
        }
      ]
    },
    {
      "cell_type": "markdown",
      "metadata": {
        "id": "b4T2ELFp1k_a"
      },
      "source": [
        "# Predicting the test results"
      ]
    },
    {
      "cell_type": "code",
      "metadata": {
        "id": "IzhVdP511ayX"
      },
      "source": [
        "#Predicting the test results\n",
        "Y_pred = model.predict(X_test)\n",
        "print(Y_pred)\n",
        "print(Y_train)"
      ],
      "execution_count": null,
      "outputs": []
    },
    {
      "cell_type": "markdown",
      "metadata": {
        "id": "k8Zm809JJkoj"
      },
      "source": [
        "# Calculate Accuracy"
      ]
    },
    {
      "cell_type": "code",
      "metadata": {
        "id": "Kf_EcVZjmt7n"
      },
      "source": [
        "#Calculate Accuracy\n",
        "accuracy = model.score(X_test,Y_test)\n",
        "print(accuracy)"
      ],
      "execution_count": null,
      "outputs": []
    },
    {
      "cell_type": "markdown",
      "metadata": {
        "id": "4HQKxlUxJr2e"
      },
      "source": [
        "# Plot the Regressor Curve\n"
      ]
    },
    {
      "cell_type": "code",
      "metadata": {
        "colab": {
          "base_uri": "https://localhost:8080/",
          "height": 573
        },
        "id": "gHM6T_U9mt7n",
        "outputId": "08b5935a-0d7b-4ced-fc94-9c9085715ac0"
      },
      "source": [
        "plt.scatter(X_train,Y_train,color='indigo',marker='*')\n",
        "plt.xlabel('Height')\n",
        "plt.ylabel('Weight')\n",
        "plt.title('Height vs. Weight (Training Set)')\n",
        "plt.plot(X_train, model.predict(X_train), color='green')\n",
        "plt.show()\n",
        "\n",
        "plt.scatter(X_test,Y_test,color='orange',marker='+')\n",
        "plt.xlabel('Height')\n",
        "plt.ylabel('Weight')\n",
        "plt.title('Height vs. Weight (Test Set)')\n",
        "plt.plot(X_test, model.predict(X_test), color='red')\n",
        "plt.show()"
      ],
      "execution_count": 13,
      "outputs": [
        {
          "output_type": "display_data",
          "data": {
            "image/png": "[encoded data removed]",
            "text/plain": [
              "<Figure size 432x288 with 1 Axes>"
            ]
          },
          "metadata": {
            "tags": [],
            "needs_background": "light"
          }
        },
        {
          "output_type": "display_data",
          "data": {
            "image/png": "[encoded data removed]",
            "text/plain": [
              "<Figure size 432x288 with 1 Axes>"
            ]
          },
          "metadata": {
            "tags": [],
            "needs_background": "light"
          }
        }
      ]
    },
    {
      "cell_type": "markdown",
      "metadata": {
        "id": "leA4dpb-LAYr"
      },
      "source": [
        "# Predict on External Data"
      ]
    },
    {
      "cell_type": "code",
      "metadata": {
        "id": "_3FqNsMmmt7m"
      },
      "source": [
        "test_data = np.array([[65.78331]])\n",
        "test_pred = model.predict(test_data)\n",
        "print(test_pred)"
      ],
      "execution_count": null,
      "outputs": []
    },
    {
      "cell_type": "markdown",
      "metadata": {
        "id": "TTTmSvDmLIPY"
      },
      "source": [
        "# Collect data from user through manual input"
      ]
    },
    {
      "cell_type": "code",
      "metadata": {
        "id": "5GQJV_KkbyWt",
        "colab": {
          "base_uri": "https://localhost:8080/"
        },
        "outputId": "9b991e36-5ce3-4de0-83f7-77bcdadb54a7"
      },
      "source": [
        "Height = int(input(\"Enter your height?\"))\n",
        "weight = model.predict(np.array([[Height]])) \n",
        "print('Estimated weight of the person with ' + str(Height) + 'in height is ' + str(weight[0]))\n"
      ],
      "execution_count": 15,
      "outputs": [
        {
          "output_type": "stream",
          "text": [
            "Enter your height?67\n",
            "Estimated weight of the person with 67in height is 124.53784669304287\n"
          ],
          "name": "stdout"
        }
      ]
    }
  ]
}