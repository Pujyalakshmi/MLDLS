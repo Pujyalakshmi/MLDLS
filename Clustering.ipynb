{
  "nbformat": 4,
  "nbformat_minor": 0,
  "metadata": {
    "colab": {
      "name": "Clustering.ipynb",
      "provenance": [],
      "collapsed_sections": [],
      "include_colab_link": true
    },
    "kernelspec": {
      "name": "python3",
      "display_name": "Python 3"
    },
    "language_info": {
      "name": "python"
    }
  },
  "cells": [
    {
      "cell_type": "markdown",
      "metadata": {
        "id": "view-in-github",
        "colab_type": "text"
      },
      "source": [
        "<a href=\"https://colab.research.google.com/github/Pujyalakshmi/MLDLS/blob/main/Clustering.ipynb\" target=\"_parent\"><img src=\"https://colab.research.google.com/assets/colab-badge.svg\" alt=\"Open In Colab\"/></a>"
      ]
    },
    {
      "cell_type": "code",
      "metadata": {
        "id": "dyJHuxfRRTlT"
      },
      "source": [
        "#importing libraries\n",
        "import pandas as pd\n",
        "import numpy as np\n",
        "import matplotlib.pyplot as plt"
      ],
      "execution_count": null,
      "outputs": []
    },
    {
      "cell_type": "code",
      "metadata": {
        "colab": {
          "base_uri": "https://localhost:8080/"
        },
        "id": "8SGcRuJHRdoD",
        "outputId": "904ff99b-f31b-40c7-fe5c-93639a0e4d3f"
      },
      "source": [
        "data = pd.read_csv(\"Mall_Customers.csv\")\n",
        "print(data)"
      ],
      "execution_count": null,
      "outputs": [
        {
          "output_type": "stream",
          "text": [
            "     CustomerID  Age  Annual Income (k$)  Spending Score (1-100)\n",
            "0             1   19                  15                      39\n",
            "1             2   21                  15                      81\n",
            "2             3   20                  16                       6\n",
            "3             4   23                  16                      77\n",
            "4             5   31                  17                      40\n",
            "..          ...  ...                 ...                     ...\n",
            "195         196   35                 120                      79\n",
            "196         197   45                 126                      28\n",
            "197         198   32                 126                      74\n",
            "198         199   32                 137                      18\n",
            "199         200   30                 137                      83\n",
            "\n",
            "[200 rows x 4 columns]\n"
          ],
          "name": "stdout"
        }
      ]
    },
    {
      "cell_type": "code",
      "metadata": {
        "id": "HE-4--WGRnpH"
      },
      "source": [
        "X = data.iloc[:,:].values\n",
        "x1= data.iloc[:,1].values\n",
        "x2= data.iloc[:,2].values"
      ],
      "execution_count": null,
      "outputs": []
    },
    {
      "cell_type": "code",
      "metadata": {
        "colab": {
          "base_uri": "https://localhost:8080/",
          "height": 282
        },
        "id": "h8kitI0_Sof_",
        "outputId": "730d18b7-4ed1-4141-de2e-9d95ad3c8dd6"
      },
      "source": [
        "plt.scatter(x1, x2)\n",
        "plt.plot()"
      ],
      "execution_count": null,
      "outputs": [
        {
          "output_type": "execute_result",
          "data": {
            "text/plain": [
              "[]"
            ]
          },
          "metadata": {
            "tags": []
          },
          "execution_count": 9
        },
        {
          "output_type": "display_data",
          "data": {
            "image/png": "[encoded data removed]",
            "text/plain": [
              "<Figure size 432x288 with 1 Axes>"
            ]
          },
          "metadata": {
            "tags": [],
            "needs_background": "light"
          }
        }
      ]
    },
    {
      "cell_type": "code",
      "metadata": {
        "colab": {
          "base_uri": "https://localhost:8080/"
        },
        "id": "iGW687giSKDC",
        "outputId": "c7baf019-d8c9-467e-cc26-6e060d8d0e98"
      },
      "source": [
        "from sklearn.cluster import KMeans\n",
        "# Number of clusters\n",
        "kmeans = KMeans(n_clusters=2)\n",
        "# Getting the cluster labels\n",
        "labels = kmeans.fit_predict(data)\n",
        "data[\"Output\"]= labels\n",
        "# Centroid values\n",
        "centroids = kmeans.cluster_centers_\n",
        "print(\"Centroid values\")\n",
        "print(centroids) \n"
      ],
      "execution_count": null,
      "outputs": [
        {
          "output_type": "stream",
          "text": [
            "Centroid values\n",
            "[[150.          37.77227723  81.35643564  50.45544554   0.32673267]\n",
            " [ 50.          39.94949495  39.34343434  49.93939394   1.61616162]]\n"
          ],
          "name": "stdout"
        }
      ]
    },
    {
      "cell_type": "code",
      "metadata": {
        "colab": {
          "base_uri": "https://localhost:8080/"
        },
        "id": "A6QkSBeLZZwY",
        "outputId": "77406681-8094-4031-f6c0-d7f6f1db1c35"
      },
      "source": [
        "print(data)"
      ],
      "execution_count": null,
      "outputs": [
        {
          "output_type": "stream",
          "text": [
            "     CustomerID  Age  Annual Income (k$)  Spending Score (1-100)  Output\n",
            "0             1   19                  15                      39       1\n",
            "1             2   21                  15                      81       1\n",
            "2             3   20                  16                       6       1\n",
            "3             4   23                  16                      77       1\n",
            "4             5   31                  17                      40       1\n",
            "..          ...  ...                 ...                     ...     ...\n",
            "195         196   35                 120                      79       0\n",
            "196         197   45                 126                      28       0\n",
            "197         198   32                 126                      74       0\n",
            "198         199   32                 137                      18       0\n",
            "199         200   30                 137                      83       0\n",
            "\n",
            "[200 rows x 5 columns]\n"
          ],
          "name": "stdout"
        }
      ]
    },
    {
      "cell_type": "code",
      "metadata": {
        "colab": {
          "base_uri": "https://localhost:8080/"
        },
        "id": "zil1ssshsyha",
        "outputId": "aa7ea37b-6d18-40ad-fad3-7d0eee03b9ec"
      },
      "source": [
        "len(X)"
      ],
      "execution_count": null,
      "outputs": [
        {
          "output_type": "execute_result",
          "data": {
            "text/plain": [
              "200"
            ]
          },
          "metadata": {
            "tags": []
          },
          "execution_count": 31
        }
      ]
    },
    {
      "cell_type": "code",
      "metadata": {
        "colab": {
          "base_uri": "https://localhost:8080/",
          "height": 282
        },
        "id": "JMXv1oBfSkSc",
        "outputId": "611d6814-cf31-4aa0-9ebb-86f0e3c404cc"
      },
      "source": [
        "k=2\n",
        "#plotting the clusters\n",
        "colors = ['r', 'g']\n",
        "fig, ax = plt.subplots()\n",
        "for i in range(k):\n",
        "        points = np.array([X[j] for j in range(len(X)) if labels[j] == i])\n",
        "        ax.scatter(points[:, 0], points[:, 1], c=colors[i])\n",
        "#plotting the centroids        \n",
        "ax.scatter(centroids[:, 0], centroids[:, 1], marker='+', s=500)\n",
        "\n"
      ],
      "execution_count": null,
      "outputs": [
        {
          "output_type": "execute_result",
          "data": {
            "text/plain": [
              "<matplotlib.collections.PathCollection at 0x7fe6e7da9b10>"
            ]
          },
          "metadata": {
            "tags": []
          },
          "execution_count": 52
        },
        {
          "output_type": "display_data",
          "data": {
            "image/png": "[encoded data removed]",
            "text/plain": [
              "<Figure size 432x288 with 1 Axes>"
            ]
          },
          "metadata": {
            "tags": [],
            "needs_background": "light"
          }
        }
      ]
    }
  ]
}